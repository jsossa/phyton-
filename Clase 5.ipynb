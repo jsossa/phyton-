{
 "cells": [
  {
   "cell_type": "markdown",
   "id": "7e20e84f",
   "metadata": {},
   "source": [
    "# Clase 5 \n",
    "\n",
    "# Dar forma a las salidas de impresiones"
   ]
  },
  {
   "cell_type": "markdown",
   "id": "94466bb3",
   "metadata": {},
   "source": []
  },
  {
   "cell_type": "code",
   "execution_count": 1,
   "id": "27fc5fd7",
   "metadata": {},
   "outputs": [
    {
     "name": "stdout",
     "output_type": "stream",
     "text": [
      "los valores son: 13 trece\n"
     ]
    }
   ],
   "source": [
    "AA = 13\n",
    "BB = 'trece'\n",
    "\n",
    "print('los valores son:', AA, BB)\n"
   ]
  },
  {
   "cell_type": "code",
   "execution_count": 2,
   "id": "e3087365",
   "metadata": {},
   "outputs": [
    {
     "name": "stdout",
     "output_type": "stream",
     "text": [
      "el valor de la variable es : 14 y el valor de la otra variable es: comida\n"
     ]
    }
   ],
   "source": [
    "CC = 14 \n",
    "DD = 'comida'\n",
    "\n",
    "print(f\"el valor de la variable es : {CC} y el valor de la otra variable es: {DD}\")"
   ]
  },
  {
   "cell_type": "code",
   "execution_count": 5,
   "id": "09810ad2",
   "metadata": {},
   "outputs": [
    {
     "name": "stdout",
     "output_type": "stream",
     "text": [
      "hola mucho gusto mi nombre es jonathan y tengo 28 de edad \n"
     ]
    }
   ],
   "source": [
    "nombre = 'jonathan'\n",
    "edad = 28\n",
    "\n",
    "print(\"hola mucho gusto mi nombre es {} y tengo {} de edad \".format(nombre, edad))"
   ]
  },
  {
   "cell_type": "code",
   "execution_count": 12,
   "id": "9ee4dde7",
   "metadata": {},
   "outputs": [
    {
     "name": "stdout",
     "output_type": "stream",
     "text": [
      "hola, mucho gusto el nombre es jonathan y mi apellido es sossa  tengo un peso de 110 kg y  de edad 28 anos\n"
     ]
    }
   ],
   "source": [
    "nombre = 'jonathan'\n",
    "apellido = 'sossa'\n",
    "peso = 110\n",
    "edad = 28\n",
    "\n",
    "print(\"hola, mucho gusto el nombre es %s y mi apellido es %s  tengo un peso de %d kg y  de edad %s anos\" % (nombre, apellido, peso, edad))"
   ]
  },
  {
   "cell_type": "markdown",
   "id": "fb16dd90",
   "metadata": {},
   "source": [
    "# Caracteres de escape "
   ]
  },
  {
   "cell_type": "code",
   "execution_count": null,
   "id": "1450207a",
   "metadata": {},
   "outputs": [
    {
     "name": "stdout",
     "output_type": "stream",
     "text": [
      "llegue tarde a la clase de algoritmos\n"
     ]
    }
   ],
   "source": [
    "# usando el \\\n",
    "print(\"Me levante tare hoy, \\r llegue tarde a la clase de algoritmos\")"
   ]
  },
  {
   "cell_type": "code",
   "execution_count": 15,
   "id": "cc404486",
   "metadata": {},
   "outputs": [
    {
     "name": "stdout",
     "output_type": "stream",
     "text": [
      "Me levante tare hoy,  llegue 'tarde' a la clase de algoritmos\n"
     ]
    }
   ],
   "source": [
    "print(\"Me levante tare hoy,  llegue 'tarde' a la clase de algoritmos\")"
   ]
  },
  {
   "cell_type": "code",
   "execution_count": null,
   "id": "5aea172f",
   "metadata": {},
   "outputs": [
    {
     "name": "stdout",
     "output_type": "stream",
     "text": [
      "jonathan\tdanilo\tsossa\tbuitrago\n"
     ]
    }
   ],
   "source": [
    "print(\"jonathan\\tdanilo\\tsossa\\tbuitrago\")"
   ]
  },
  {
   "cell_type": "code",
   "execution_count": null,
   "id": "4748a4b9",
   "metadata": {},
   "outputs": [],
   "source": [
    "print('El semestre se acaba el 6 de junio, toca hacer un asadito')"
   ]
  },
  {
   "cell_type": "markdown",
   "id": "f9c3c506",
   "metadata": {},
   "source": [
    "# Operadores matematicos y variables enteras y flotantes "
   ]
  },
  {
   "cell_type": "code",
   "execution_count": 26,
   "id": "0a4d8472",
   "metadata": {},
   "outputs": [
    {
     "name": "stdout",
     "output_type": "stream",
     "text": [
      "el resultado de la suma es: 60.8 y el tipo de la variable es: <class 'float'>\n",
      "el resultado de la resta es: -39.2 y el tipo de la variable es: <class 'float'>\n"
     ]
    }
   ],
   "source": [
    "Num_1 = 10.8\n",
    "NUM_2 = 50\n",
    "\n",
    "suma = Num_1 + NUM_2\n",
    "# resta\n",
    "resta = Num_1 - NUM_2\n",
    "print (f\"el resultado de la suma es: {suma} y el tipo de la variable es: {type(suma)}\")\n",
    "print (f\"el resultado de la resta es: {resta} y el tipo de la variable es: {type(resta)}\")"
   ]
  }
 ],
 "metadata": {
  "kernelspec": {
   "display_name": "Python 3",
   "language": "python",
   "name": "python3"
  },
  "language_info": {
   "codemirror_mode": {
    "name": "ipython",
    "version": 3
   },
   "file_extension": ".py",
   "mimetype": "text/x-python",
   "name": "python",
   "nbconvert_exporter": "python",
   "pygments_lexer": "ipython3",
   "version": "3.13.0"
  }
 },
 "nbformat": 4,
 "nbformat_minor": 5
}
