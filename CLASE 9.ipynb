{
 "cells": [
  {
   "cell_type": "markdown",
   "id": "73bfb2e5",
   "metadata": {},
   "source": [
    "# VAR  ()= TUPLA,        VAR[] = LISTA,     VAR{} = DICCIONARIO"
   ]
  },
  {
   "cell_type": "code",
   "execution_count": 1,
   "id": "31b2f4bd",
   "metadata": {},
   "outputs": [
    {
     "name": "stdout",
     "output_type": "stream",
     "text": [
      "(5, 7)\n",
      "(8, 9)\n",
      "<class 'tuple'>\n",
      "<class 'tuple'> None\n",
      "La suma de las tuplas es:\n"
     ]
    }
   ],
   "source": [
    "numeros = (5,7)\n",
    "print(numeros)\n",
    "valores = (8,9)\n",
    "print(valores)\n",
    "print(type(valores),print(type(numeros)))\n",
    "# SUMAR TUPLAS\n",
    "suma_tuplas = numeros + valores\n",
    "print(\"La suma de las tuplas es:\")"
   ]
  },
  {
   "cell_type": "code",
   "execution_count": 4,
   "id": "992e9f16",
   "metadata": {},
   "outputs": [
    {
     "name": "stdout",
     "output_type": "stream",
     "text": [
      "Tupla ordenada de 30 palabras:\n",
      "('algoritmo', 'analisis', 'aprender', 'biblioteca', 'bucle', 'clase', 'codigo', 'computadora', 'condicion', 'constantes', 'crear', 'datos', 'depuracion', 'desarrollo', 'digital', 'ejemplo', 'funcion', 'futuro', 'ingenieria', 'internet', 'lista', 'metodo', 'moderno', 'modulo', 'objeto', 'ordenar', 'programacion', 'proyecto', 'python', 'redes')\n",
      "\n",
      "Número de palabras en la tupla: 30\n"
     ]
    }
   ],
   "source": [
    "# CREACION DE TUPLA \n",
    "# Paso 1: Crear una lista de palabras (pueden ser más de 30 para tener de dónde escoger)\n",
    "# En un caso real, estas palabras podrían venir de un archivo de texto, una base de datos, etc.\n",
    "palabras_desordenadas = (\n",
    "    \"programacion\", \"python\", \"ordenar\", \"lista\", \"tupla\",\n",
    "    \"funcion\", \"codigo\", \"desarrollo\", \"computadora\", \"algoritmo\",\n",
    "    \"datos\", \"analisis\", \"software\", \"ingenieria\", \"internet\",\n",
    "    \"seguridad\", \"redes\", \"variables\", \"constantes\", \"clase\",\n",
    "    \"objeto\", \"metodo\", \"bucle\", \"condicion\", \"depuracion\",\n",
    "    \"modulo\", \"biblioteca\", \"proyecto\", \"ejemplo\", \"texto\",\n",
    "    \"aprender\", \"crear\", \"digital\", \"moderno\", \"futuro\"\n",
    ")\n",
    "\n",
    "# Paso 2: Usar sorted() para obtener una lista ordenada\n",
    "# La función sorted() toma cualquier secuencia (como nuestra lista 'palabras_desordenadas')\n",
    "# y devuelve una *nueva lista* con los elementos ordenados alfabéticamente por defecto.\n",
    "# Nota: La lista original 'palabras_desordenadas' NO se modifica.\n",
    "lista_ordenada = sorted(palabras_desordenadas)\n",
    "\n",
    "# Paso 3: Opcional - Tomar solo las primeras 30 palabras si la lista es más grande\n",
    "# Si 'palabras_desordenadas' tuviera más de 30 palabras, 'lista_ordenada' también las tendría.\n",
    "# Aquí nos aseguramos de que solo trabajamos con las primeras 30.\n",
    "# Si tu lista inicial ya tiene exactamente 30 o menos, este paso no es estrictamente necesario,\n",
    "# pero es una buena práctica si la fuente de datos es variable.\n",
    "palabras_para_tupla = lista_ordenada[:30] # Usamos 'slicing' para obtener los primeros 30 elementos\n",
    "\n",
    "# Paso 4: Convertir la lista ordenada en una tupla\n",
    "# La función tuple() toma cualquier secuencia (como nuestra 'lista_ordenada' o 'palabras_para_tupla')\n",
    "# y la convierte en una tupla.\n",
    "tupla_ordenada = tuple(palabras_para_tupla)\n",
    "\n",
    "## Paso 5: Imprimir la tupla resultante\n",
    "print(\"Tupla ordenada de 30 palabras:\")\n",
    "print(tupla_ordenada)\n",
    "print(f\"\\nNúmero de palabras en la tupla: {len(tupla_ordenada)}\")"
   ]
  },
  {
   "cell_type": "markdown",
   "id": "b58cd361",
   "metadata": {},
   "source": [
    "#TUPLAS CON TEXTOS"
   ]
  },
  {
   "cell_type": "code",
   "execution_count": 6,
   "id": "ab313d1a",
   "metadata": {},
   "outputs": [
    {
     "name": "stdout",
     "output_type": "stream",
     "text": [
      "<class 'tuple'>\n"
     ]
    }
   ],
   "source": [
    "carreras = (\"ing sistemas\", \"ing electronica\", \"ing civil\", \"ing industrial\")\n",
    "print(type(carreras))"
   ]
  },
  {
   "cell_type": "code",
   "execution_count": 7,
   "id": "e9b4381d",
   "metadata": {},
   "outputs": [
    {
     "name": "stdout",
     "output_type": "stream",
     "text": [
      "El nieto se llama diego\n"
     ]
    }
   ],
   "source": [
    "familia = (\"BisAbuelo\", \"BisAbuela\",(\"Abuelo\", \"Abuela\",(\"Padre\", \"Madre\" , (\"diego\"))))\n",
    "print(\"El nieto se llama\", familia[2][2][2])"
   ]
  },
  {
   "cell_type": "code",
   "execution_count": 12,
   "id": "328c4622",
   "metadata": {},
   "outputs": [
    {
     "data": {
      "text/plain": [
       "5"
      ]
     },
     "execution_count": 12,
     "metadata": {},
     "output_type": "execute_result"
    }
   ],
   "source": [
    "#funcion find\n",
    "\"JONATHAN DANILO SOSSA BUITRAGO\".find('H')"
   ]
  },
  {
   "cell_type": "code",
   "execution_count": 13,
   "id": "3f0540a1",
   "metadata": {},
   "outputs": [
    {
     "name": "stdout",
     "output_type": "stream",
     "text": [
      "La lista es: ['papa', 'yuca', 'carne']\n",
      "Lista modificada: ['papa', 'yuca', 'carne', 'arroz']\n"
     ]
    }
   ],
   "source": [
    "#Credor de lista\n",
    "mercado = ['papa', 'yuca', 'carne']\n",
    "print (\"La lista es:\", mercado)\n",
    "#agregar un dato\n",
    "mercado.append('arroz')\n",
    "print (\"Lista modificada:\", mercado)"
   ]
  },
  {
   "cell_type": "code",
   "execution_count": null,
   "id": "e39f44da",
   "metadata": {},
   "outputs": [
    {
     "name": "stdout",
     "output_type": "stream",
     "text": [
      "La lista es: ('carne', 'yuca', 'papa')\n"
     ]
    },
    {
     "ename": "AttributeError",
     "evalue": "'tuple' object has no attribute 'append'",
     "output_type": "error",
     "traceback": [
      "\u001b[31m---------------------------------------------------------------------------\u001b[39m",
      "\u001b[31mAttributeError\u001b[39m                            Traceback (most recent call last)",
      "\u001b[36mCell\u001b[39m\u001b[36m \u001b[39m\u001b[32mIn[14]\u001b[39m\u001b[32m, line 3\u001b[39m\n\u001b[32m      1\u001b[39m Mercado = (\u001b[33m\"\u001b[39m\u001b[33mcarne\u001b[39m\u001b[33m\"\u001b[39m, \u001b[33m\"\u001b[39m\u001b[33myuca\u001b[39m\u001b[33m\"\u001b[39m, \u001b[33m\"\u001b[39m\u001b[33mpapa\u001b[39m\u001b[33m\"\u001b[39m)\n\u001b[32m      2\u001b[39m \u001b[38;5;28mprint\u001b[39m(\u001b[33m\"\u001b[39m\u001b[33mLa lista es:\u001b[39m\u001b[33m\"\u001b[39m, Mercado)\n\u001b[32m----> \u001b[39m\u001b[32m3\u001b[39m \u001b[43mMercado\u001b[49m\u001b[43m.\u001b[49m\u001b[43mappend\u001b[49m\n",
      "\u001b[31mAttributeError\u001b[39m: 'tuple' object has no attribute 'append'"
     ]
    }
   ],
   "source": [
    "Mercado = (\"carne\", \"yuca\", \"papa\")\n",
    "print(\"La lista es:\", Mercado)\n",
    "Mercado.append(input(\"ingrese un producto para agregar al mercado:\"))\n",
    "print(\"el mercado actulado es:\", Mercado)"
   ]
  }
 ],
 "metadata": {
  "kernelspec": {
   "display_name": "Python 3",
   "language": "python",
   "name": "python3"
  },
  "language_info": {
   "codemirror_mode": {
    "name": "ipython",
    "version": 3
   },
   "file_extension": ".py",
   "mimetype": "text/x-python",
   "name": "python",
   "nbconvert_exporter": "python",
   "pygments_lexer": "ipython3",
   "version": "3.13.0"
  }
 },
 "nbformat": 4,
 "nbformat_minor": 5
}
