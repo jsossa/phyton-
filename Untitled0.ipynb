{
  "nbformat": 4,
  "nbformat_minor": 0,
  "metadata": {
    "colab": {
      "provenance": []
    },
    "kernelspec": {
      "name": "python3",
      "display_name": "Python 3"
    },
    "language_info": {
      "name": "python"
    }
  },
  "cells": [
    {
      "cell_type": "code",
      "execution_count": null,
      "metadata": {
        "id": "3Ejsn8okVOnX"
      },
      "outputs": [],
      "source": []
    },
    {
      "cell_type": "markdown",
      "source": [
        "# Clase 2"
      ],
      "metadata": {
        "id": "QqkiWpIKW4Oe"
      }
    },
    {
      "cell_type": "code",
      "source": [],
      "metadata": {
        "id": "qlIXw72vW7iX"
      },
      "execution_count": null,
      "outputs": []
    },
    {
      "cell_type": "code",
      "source": [
        "import pandas as pd # Inportando libreria\n",
        "datos = {\n",
        "    \"nombre\":['juan', 'maria', 'luis'],\n",
        "    \"edades\" : [20,30,40],\n",
        "    \"ciudad\" :['madrid', 'barcelona', 'valencia'],\n",
        "    \"altura\" : [1.70, 1.65, 1.80],\n",
        "    \"id\" : [1,2,3],\n",
        "    \"deport_favor\" : ['futbol', 'tenis', 'natacion'],\n",
        "    \"profesion\" : ['ingeniero', 'doctor', 'arquitecto']\n",
        "}\n",
        "#crear un datafarme\n",
        "tabla = pd.DataFrame(datos)\n",
        "#mostrar el tipo de la variable\n",
        "print(\"la variable es de tipo: \", type(tabla))\n",
        "#mostrar el dataFramde\n",
        "print(tabla)"
      ],
      "metadata": {
        "colab": {
          "base_uri": "https://localhost:8080/"
        },
        "id": "_JORcLxCBfBa",
        "outputId": "aecf4072-5f1d-458b-8346-171a7c95b934"
      },
      "execution_count": null,
      "outputs": [
        {
          "output_type": "stream",
          "name": "stdout",
          "text": [
            "la variable es de tipo:  <class 'pandas.core.frame.DataFrame'>\n",
            "  nombre  edades     ciudad  altura  id deport_favor   profesion\n",
            "0   juan      20     madrid    1.70   1       futbol   ingeniero\n",
            "1  maria      30  barcelona    1.65   2        tenis      doctor\n",
            "2   luis      40   valencia    1.80   3     natacion  arquitecto\n"
          ]
        }
      ]
    },
    {
      "cell_type": "code",
      "source": [],
      "metadata": {
        "id": "7hOQxtVyHf8o"
      },
      "execution_count": null,
      "outputs": []
    }
  ]
}