{
 "cells": [
  {
   "cell_type": "markdown",
   "id": "5a5ef003",
   "metadata": {},
   "source": [
    "# Clase 2"
   ]
  },
  {
   "cell_type": "code",
   "execution_count": 1,
   "id": "994f3956",
   "metadata": {},
   "outputs": [],
   "source": [
    "# Tipos de variables\n",
    "A = \"carlos\"\n",
    "carlos = 12\n",
    "stra = 1.79\n",
    "deporte = False"
   ]
  },
  {
   "cell_type": "code",
   "execution_count": null,
   "id": "4255d37a",
   "metadata": {},
   "outputs": [],
   "source": [
    "#funsion type () - investigar el tipo de datos que tiene una variable\n",
    "type(A)\n",
    "\n",
    "str"
   ]
  },
  {
   "cell_type": "code",
   "execution_count": null,
   "id": "578b6ecf",
   "metadata": {},
   "outputs": [],
   "source": [
    "#funcion para ver el tipo de dato\n",
    "type(carlos)\n",
    "int"
   ]
  },
  {
   "cell_type": "code",
   "execution_count": null,
   "id": "f513d52f",
   "metadata": {},
   "outputs": [],
   "source": [
    "type(stra)\n",
    "float"
   ]
  },
  {
   "cell_type": "code",
   "execution_count": null,
   "id": "f7a012ad",
   "metadata": {},
   "outputs": [],
   "source": [
    "type(deporte)\n",
    "bool"
   ]
  },
  {
   "cell_type": "code",
   "execution_count": 7,
   "id": "9b87ffe6",
   "metadata": {},
   "outputs": [
    {
     "name": "stdout",
     "output_type": "stream",
     "text": [
      "(2, 3, 7)\n"
     ]
    },
    {
     "data": {
      "text/plain": [
       "tuple"
      ]
     },
     "execution_count": 7,
     "metadata": {},
     "output_type": "execute_result"
    }
   ],
   "source": [
    "B = (2,3,7) #inmutable no cambia\n",
    "\n",
    "print(B)\n",
    "\n",
    "type(B)"
   ]
  },
  {
   "cell_type": "code",
   "execution_count": 9,
   "id": "8c601850",
   "metadata": {},
   "outputs": [
    {
     "name": "stdout",
     "output_type": "stream",
     "text": [
      "la variable es <class 'int'>\n",
      "la variable es <class 'float'>\n",
      "la variable es <class 'str'>\n",
      "la variable es <class 'bool'>\n"
     ]
    }
   ],
   "source": [
    "print (\"la variable es\", type(236))\n",
    "print (\"la variable es\", type(12.5))\n",
    "print (\"la variable es\", type('sopa'))\n",
    "print (\"la variable es\", type(True))"
   ]
  },
  {
   "cell_type": "markdown",
   "id": "10d78b25",
   "metadata": {},
   "source": [
    "# Variables que almacenan multiples datos"
   ]
  },
  {
   "cell_type": "code",
   "execution_count": 11,
   "id": "9d17b12b",
   "metadata": {},
   "outputs": [
    {
     "name": "stdout",
     "output_type": "stream",
     "text": [
      "La variable es de tipo: <class 'tuple'>\n"
     ]
    }
   ],
   "source": [
    "# Creacion de una Tupla\n",
    "no_modificable = (1,2,3)\n",
    "print(\"La variable es de tipo:\", type(no_modificable)) # Mostrar el tipo de la variable"
   ]
  },
  {
   "cell_type": "code",
   "execution_count": 13,
   "id": "af513612",
   "metadata": {},
   "outputs": [
    {
     "name": "stdout",
     "output_type": "stream",
     "text": [
      "la variable es de tipo: <class 'list'>\n"
     ]
    }
   ],
   "source": [
    "# Creacion de una lista\n",
    "compras_modif = [\"leche\", \"huevos\", \"pan\",]\n",
    "print(\"la variable es de tipo:\", type (compras_modif))"
   ]
  },
  {
   "cell_type": "code",
   "execution_count": 17,
   "id": "148e821a",
   "metadata": {},
   "outputs": [
    {
     "name": "stdout",
     "output_type": "stream",
     "text": [
      "la variable es de tipo: <class 'dict'> {'leche': 1.5, 'huevos': 2.0, 'pan': 1.0, 'cebolla': 2.5, 'sopa': 3.1, 'arroz': 2.4, 'panela': 0.1}\n"
     ]
    }
   ],
   "source": [
    "# Crea un diccionario\n",
    "\n",
    "compras = {\n",
    "    \"leche\": 1.5,\n",
    "    \"huevos\": 2.0,\n",
    "    \"pan\": 1.0,\n",
    "    \"cebolla\" : 2.5,\n",
    "    \"sopa\" : 3.1,\n",
    "    \"arroz\": 2.4,\n",
    "    \"panela\": 0.1,\n",
    "}\n",
    "print(\"la variable es de tipo:\", type(compras),compras)"
   ]
  },
  {
   "cell_type": "code",
   "execution_count": 24,
   "id": "99b1820e",
   "metadata": {},
   "outputs": [
    {
     "ename": "ModuleNotFoundError",
     "evalue": "No module named 'pandas'",
     "output_type": "error",
     "traceback": [
      "\u001b[31m---------------------------------------------------------------------------\u001b[39m",
      "\u001b[31mModuleNotFoundError\u001b[39m                       Traceback (most recent call last)",
      "\u001b[36mCell\u001b[39m\u001b[36m \u001b[39m\u001b[32mIn[24]\u001b[39m\u001b[32m, line 1\u001b[39m\n\u001b[32m----> \u001b[39m\u001b[32m1\u001b[39m \u001b[38;5;28;01mimport\u001b[39;00m\u001b[38;5;250m \u001b[39m\u001b[34;01mpandas\u001b[39;00m\u001b[38;5;250m \u001b[39m\u001b[38;5;28;01mas\u001b[39;00m\u001b[38;5;250m \u001b[39m\u001b[34;01mpd\u001b[39;00m \u001b[38;5;66;03m# Inportando libreria \u001b[39;00m\n",
      "\u001b[31mModuleNotFoundError\u001b[39m: No module named 'pandas'"
     ]
    }
   ],
   "source": [
    "import pandas as pd # Inportando libreria "
   ]
  }
 ],
 "metadata": {
  "kernelspec": {
   "display_name": "Python 3",
   "language": "python",
   "name": "python3"
  },
  "language_info": {
   "codemirror_mode": {
    "name": "ipython",
    "version": 3
   },
   "file_extension": ".py",
   "mimetype": "text/x-python",
   "name": "python",
   "nbconvert_exporter": "python",
   "pygments_lexer": "ipython3",
   "version": "3.13.0"
  }
 },
 "nbformat": 4,
 "nbformat_minor": 5
}
