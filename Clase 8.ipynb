{
 "cells": [
  {
   "cell_type": "markdown",
   "id": "11918596",
   "metadata": {},
   "source": [
    "# ALGORITMOS DE CONTEO"
   ]
  },
  {
   "cell_type": "code",
   "execution_count": 4,
   "id": "11f73e54",
   "metadata": {},
   "outputs": [
    {
     "name": "stdout",
     "output_type": "stream",
     "text": [
      "Frecuencia de palabras:\n",
      "(palabra): 3\n",
      "(palabra): 2\n",
      "(palabra): 1\n",
      "(palabra): 2\n",
      "(palabra): 1\n",
      "(palabra): 1\n",
      "(palabra): 1\n"
     ]
    }
   ],
   "source": [
    "# arrastramos la clase de counter desde la biblioteca collection\n",
    "from collections import Counter \n",
    "\n",
    "# Ahora vamos ah declarar las variables en una cadena de texto (pued ser un archivo, input, etc.)\n",
    "texto = \"el perro corre y el gato duerme y el perro ladra\"\n",
    "\n",
    "# Dividimos el texto en una lista de palabras para ordenamiento\n",
    "palabras = texto.split() # ['el', 'perro', 'corre', 'y', 'el', 'gato',...]\n",
    "\n",
    "# Usamos Counter para contar cuandas veces aparece cada sierta palabra\n",
    "frecuencia = Counter(palabras)\n",
    "\n",
    "#ahora imprimimos el resultado\n",
    "print(\"Frecuencia de palabras:\")\n",
    "# 'for la palabra clave para iniciar el bucle se iniciara el codigo que esta identando debajo de el'\n",
    "for palabra, conteo in frecuencia.items():\n",
    "    print(f\"(palabra): {conteo}\")\n"
   ]
  },
  {
   "cell_type": "code",
   "execution_count": 7,
   "id": "eb6a2e94",
   "metadata": {},
   "outputs": [
    {
     "name": "stdout",
     "output_type": "stream",
     "text": [
      "{'Manzana': 3, 'Pera': 2, 'Uva': 1, 'to': 1}\n",
      "\n",
      "La palabra 'to' aparece: 1 ves.\n"
     ]
    }
   ],
   "source": [
    "# 1:  Este programa cuenta la frecuencia de cada palabra en una lista.\n",
    "# Es decir, nos dirá cuántas veces aparece cada palabra única en la lista.\n",
    "palabras = [\"Manzana\", \"Pera\", \"Manzana\", \"Uva\", \"Pera\", \"Manzana\", \"to\"]\n",
    "contador = {}\n",
    "\n",
    "# Aquí usamos un bucle 'for'. Este bucle nos permite ir a través de CADA ELEMENTO\n",
    "# (en este caso, cada 'palabra') en nuestra lista 'palabras', uno por uno, de principio a fin.\n",
    "# En cada \"vuelta\" del bucle, la variable 'palabra' tomará el valor de la fruta actual\n",
    "# que estamos revisando en nuestra canasta.\n",
    "for palabra in palabras:\n",
    "    if palabra in contador:\n",
    "        contador[palabra] +=1\n",
    "        # Si la respuesta es NO (es decir, 'palabra' NO está en el diccionario 'contador')\n",
    "    else:\n",
    "        contador[palabra] = 1\n",
    "\n",
    "#mostramos el relsultado\n",
    "# Una vez que el bucle 'for' ha terminado de revisar y contar TODAS las palabras\n",
    "# de la lista, imprimimos el diccionario 'contador' completo.\n",
    "# Este mostrará cada palabra única y el número total de veces que apareció en la lista original.\n",
    "# El resultado será algo como: {'Manzana': 3, 'Pera': 2, 'Uva': 1}\n",
    "print(contador)\n",
    "\n",
    "# --- 4: Mostrar el Conteo Específico de la Palabra \"to\" ---\n",
    "\n",
    "# Ahora, para mostrar cuántas veces aparece específicamente la palabra \"to\",\n",
    "# podemos acceder a su valor directamente desde nuestro diccionario 'contador'.\n",
    "# Usamos el método '.get()', que es una forma segura de obtener un valor:\n",
    "# '.get('to', 0)' intenta obtener el valor asociado a la clave 'to'.\n",
    "# Si 'to' existe, devuelve su conteo. Si 'to' NO existe (por ejemplo, si no estuviera en la lista),\n",
    "# '.get()' devuelve el segundo argumento (0 en este caso), evitando un error.\n",
    "print(f\"\\nLa palabra 'to' aparece: {contador.get('to', 0)} ves.\")\n"
   ]
  },
  {
   "cell_type": "code",
   "execution_count": 8,
   "id": "07de5a44",
   "metadata": {},
   "outputs": [
    {
     "name": "stdout",
     "output_type": "stream",
     "text": [
      "{'To': 1, 'begin': 2, 'to': 4, 'toboggan': 5, 'first': 1, 'buy': 3, 'abs': 1, 'but don': 1, \"'t\": 1, 'too': 2, 'big': 3, 'a': 3, 'Too': 1, 'is': 1, '\\xa0toboggan': 1}\n",
      "\n",
      "La palabra 'to' aparece: 4 ves.\n"
     ]
    }
   ],
   "source": [
    "# 1:  Este programa cuenta la frecuencia de cada palabra en una lista.\n",
    "# Es decir, nos dirá cuántas veces aparece cada palabra única en la lista.\n",
    "palabras = [\"To\", \"begin\", \"to\", \"toboggan\", \"first\", \"buy\", \"abs\", \"toboggan\", \"but don\", \"'t\", \"buy\", \"too\", \"big\", \"a\", \"toboggan\", \"Too\", \"big\", \"a\", \"toboggan\", \"is\", \"too\", \"big\", \"a\", \"toboggan\", \"to\", \"buy\", \"to\", \"begin\",\"to\",\" toboggan\"]\n",
    "contador = {}\n",
    "\n",
    "# Aquí usamos un bucle 'for'. Este bucle nos permite ir a través de CADA ELEMENTO\n",
    "# (en este caso, cada 'palabra') en nuestra lista 'palabras', uno por uno, de principio a fin.\n",
    "# En cada \"vuelta\" del bucle, la variable 'palabra' tomará el valor de la fruta actual\n",
    "# que estamos revisando en nuestra canasta.\n",
    "for palabra in palabras:\n",
    "    if palabra in contador:\n",
    "        contador[palabra] +=1\n",
    "        # Si la respuesta es NO (es decir, 'palabra' NO está en el diccionario 'contador')\n",
    "    else:\n",
    "        contador[palabra] = 1\n",
    "\n",
    "#mostramos el relsultado\n",
    "# Una vez que el bucle 'for' ha terminado de revisar y contar TODAS las palabras\n",
    "# de la lista, imprimimos el diccionario 'contador' completo.\n",
    "# Este mostrará cada palabra única y el número total de veces que apareció en la lista original.\n",
    "# El resultado será algo como: {'Manzana': 3, 'Pera': 2, 'Uva': 1}\n",
    "print(contador)\n",
    "\n",
    "# --- 4: Mostrar el Conteo Específico de la Palabra \"to\" ---\n",
    "\n",
    "# Ahora, para mostrar cuántas veces aparece específicamente la palabra \"to\",\n",
    "# podemos acceder a su valor directamente desde nuestro diccionario 'contador'.\n",
    "# Usamos el método '.get()', que es una forma segura de obtener un valor:\n",
    "# '.get('to', 0)' intenta obtener el valor asociado a la clave 'to'.\n",
    "# Si 'to' existe, devuelve su conteo. Si 'to' NO existe (por ejemplo, si no estuviera en la lista),\n",
    "# '.get()' devuelve el segundo argumento (0 en este caso), evitando un error.\n",
    "print(f\"\\nLa palabra 'to' aparece: {contador.get('to', 0)} ves.\")\n"
   ]
  }
 ],
 "metadata": {
  "kernelspec": {
   "display_name": "Python 3",
   "language": "python",
   "name": "python3"
  },
  "language_info": {
   "codemirror_mode": {
    "name": "ipython",
    "version": 3
   },
   "file_extension": ".py",
   "mimetype": "text/x-python",
   "name": "python",
   "nbconvert_exporter": "python",
   "pygments_lexer": "ipython3",
   "version": "3.13.0"
  }
 },
 "nbformat": 4,
 "nbformat_minor": 5
}
