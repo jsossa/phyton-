{
 "cells": [
  {
   "cell_type": "markdown",
   "id": "86e6fb32",
   "metadata": {},
   "source": [
    "# CLASE 6 CREAR LISTA   "
   ]
  },
  {
   "cell_type": "code",
   "execution_count": 10,
   "id": "873f2941",
   "metadata": {},
   "outputs": [
    {
     "name": "stdout",
     "output_type": "stream",
     "text": [
      "[17, 20, 26, 31, 44, 54, 55, 77, 93]\n"
     ]
    }
   ],
   "source": [
    "#Define una funcion llamada ordenamientoporinserccion que recibe una lista(unalista)\n",
    "def ordenamientoPorInserccion(unalista):\n",
    " for indice in range(1,len(unalista)):\n",
    "    #guarda el valor del elemento actual que queremos insertar en su lugar\n",
    "    valorActual = unalista[indice]\n",
    "    # guarda la posicion actal, que puede ir cambiando si el valor necesita moverse hacia la izquierda\n",
    "    posicion=indice\n",
    "    # este bucle while se encarga de mover de los elementos mayores que valor actual una posicion de la derecha \n",
    "    # para insertar valor actual en la posicion correcta:\n",
    "    while posicion>0 and unalista[posicion-1]>valorActual:\n",
    "        unalista[posicion]=unalista[posicion-1]\n",
    "        posicion = posicion-1\n",
    "        #una vez encontrado el lugar correcto, se inserta valoractual en la posicion adecueda\n",
    "        unalista[posicion]=valorActual\n",
    "\n",
    "\n",
    "# AQUI SE CREA UNA LISTA DESORDENADA:\n",
    "\n",
    "unalista = [54,26,93,17,77,31,44,55,20]\n",
    "ordenamientoPorInserccion(unalista)\n",
    "\n",
    "#se mprime el resultado\n",
    "print(unalista)\n"
   ]
  }
 ],
 "metadata": {
  "kernelspec": {
   "display_name": "Python 3",
   "language": "python",
   "name": "python3"
  },
  "language_info": {
   "codemirror_mode": {
    "name": "ipython",
    "version": 3
   },
   "file_extension": ".py",
   "mimetype": "text/x-python",
   "name": "python",
   "nbconvert_exporter": "python",
   "pygments_lexer": "ipython3",
   "version": "3.13.0"
  }
 },
 "nbformat": 4,
 "nbformat_minor": 5
}
