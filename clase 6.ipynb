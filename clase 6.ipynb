{
 "cells": [
  {
   "cell_type": "markdown",
   "id": "86e6fb32",
   "metadata": {},
   "source": [
    "# CLASE 6 CREAR LISTA   "
   ]
  },
  {
   "cell_type": "code",
   "execution_count": 10,
   "id": "873f2941",
   "metadata": {},
   "outputs": [
    {
     "name": "stdout",
     "output_type": "stream",
     "text": [
      "[17, 20, 26, 31, 44, 54, 55, 77, 93]\n"
     ]
    }
   ],
   "source": [
    "#Define una funcion llamada ordenamientoporinserccion que recibe una lista(unalista)\n",
    "def ordenamientoPorInserccion(unalista):\n",
    " for indice in range(1,len(unalista)):\n",
    "    #guarda el valor del elemento actual que queremos insertar en su lugar\n",
    "    valorActual = unalista[indice]\n",
    "    # guarda la posicion actal, que puede ir cambiando si el valor necesita moverse hacia la izquierda\n",
    "    posicion=indice\n",
    "    # este bucle while se encarga de mover de los elementos mayores que valor actual una posicion de la derecha \n",
    "    # para insertar valor actual en la posicion correcta:\n",
    "    while posicion>0 and unalista[posicion-1]>valorActual:\n",
    "        unalista[posicion]=unalista[posicion-1]\n",
    "        posicion = posicion-1\n",
    "        #una vez encontrado el lugar correcto, se inserta valoractual en la posicion adecueda\n",
    "        unalista[posicion]=valorActual\n",
    "\n",
    "\n",
    "# AQUI SE CREA UNA LISTA DESORDENADA:\n",
    "\n",
    "unalista = [54,26,93,17,77,31,44,55,20]\n",
    "ordenamientoPorInserccion(unalista)\n",
    "\n",
    "#se mprime el resultado\n",
    "print(unalista)\n"
   ]
  },
  {
   "cell_type": "code",
   "execution_count": 3,
   "id": "1ec9b0f0",
   "metadata": {},
   "outputs": [
    {
     "name": "stdout",
     "output_type": "stream",
     "text": [
      "7.142857142857143\n",
      "7\n"
     ]
    }
   ],
   "source": [
    "div_17 = 50\n",
    "div_26 = 7\n",
    "print(div_17/div_26)\n",
    "print(div_17//div_26)"
   ]
  },
  {
   "cell_type": "code",
   "execution_count": 4,
   "id": "27dd1093",
   "metadata": {},
   "outputs": [
    {
     "name": "stdout",
     "output_type": "stream",
     "text": [
      "multiplicacion 50\n",
      "potenciacion 100000\n"
     ]
    }
   ],
   "source": [
    "multi_1 = 10\n",
    "multi_2 = 5\n",
    "print(\"multiplicacion\", multi_1*multi_2)\n",
    "print(\"potenciacion\", multi_1**multi_2)"
   ]
  },
  {
   "cell_type": "code",
   "execution_count": 5,
   "id": "0832e68d",
   "metadata": {},
   "outputs": [
    {
     "name": "stdout",
     "output_type": "stream",
     "text": [
      "El resultado del moudlo es: 1\n"
     ]
    }
   ],
   "source": [
    "#modulo\n",
    "mod_1 = 10\n",
    "mod_2 = 3\n",
    "\n",
    "res = mod_1 % mod_2\n",
    "print(\"El resultado del moudlo es:\", res)"
   ]
  },
  {
   "cell_type": "code",
   "execution_count": null,
   "id": "e66ae349",
   "metadata": {},
   "outputs": [],
   "source": [
    "md_1 = 10\n",
    "md_2 = 2\n",
    "\n",
    "residuo = \n"
   ]
  },
  {
   "cell_type": "code",
   "execution_count": 7,
   "id": "aa9e2301",
   "metadata": {},
   "outputs": [
    {
     "name": "stdout",
     "output_type": "stream",
     "text": [
      "el numeo 10 es par\n"
     ]
    }
   ],
   "source": [
    "#ingresar numero por teclado\n",
    "num1 = int(input(\"ingrese el primer numero: \"))\n",
    "if num1 % 2 == 0:\n",
    "    print(f\"el numeo {num1} es par\")\n",
    "else:\n",
    "    print(f\"el numero {num1} es impar\")"
   ]
  },
  {
   "cell_type": "markdown",
   "id": "a111cae6",
   "metadata": {},
   "source": [
    "# Propiedades de las cadenas de texto"
   ]
  },
  {
   "cell_type": "code",
   "execution_count": null,
   "id": "6a47d4cc",
   "metadata": {},
   "outputs": [
    {
     "name": "stdout",
     "output_type": "stream",
     "text": [
      "jonathan sossa  buitrago\n",
      "jonathan sossa buitrago sossa buitrago buitrago\n"
     ]
    }
   ],
   "source": [
    "nombre = \"jonathan sossa buitrago\"\n",
    "#impresion positiva\n",
    "print (nombre[ : 8], nombre[ 9:15], nombre[ 15:23 ])\n",
    "#impresion negativa\n",
    "print (nombre [-23 :],nombre[-14 :], nombre [-8 :])"
   ]
  },
  {
   "cell_type": "code",
   "execution_count": 45,
   "id": "b027533e",
   "metadata": {},
   "outputs": [
    {
     "name": "stdout",
     "output_type": "stream",
     "text": [
      "las primeras 3 letras de samuel son sam\n"
     ]
    }
   ],
   "source": [
    "#ingresar valores por teclado\n",
    "nombre = input(\"ingrese su nombre: \")\n",
    "#ingresando un valor por teclado\n",
    "print(f\"las primeras 3 letras de {nombre} son\", nombre[:3])"
   ]
  }
 ],
 "metadata": {
  "kernelspec": {
   "display_name": "Python 3",
   "language": "python",
   "name": "python3"
  },
  "language_info": {
   "codemirror_mode": {
    "name": "ipython",
    "version": 3
   },
   "file_extension": ".py",
   "mimetype": "text/x-python",
   "name": "python",
   "nbconvert_exporter": "python",
   "pygments_lexer": "ipython3",
   "version": "3.13.0"
  }
 },
 "nbformat": 4,
 "nbformat_minor": 5
}
